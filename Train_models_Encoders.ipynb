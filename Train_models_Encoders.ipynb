{
 "cells": [
  {
   "cell_type": "code",
   "execution_count": 2,
   "id": "414b4303-986f-4b4d-a549-9896e878dcb8",
   "metadata": {},
   "outputs": [],
   "source": [
    "import pandas as pd\n",
    "from sklearn.model_selection import train_test_split\n",
    "from sklearn.ensemble import RandomForestClassifier\n",
    "from sklearn.metrics import classification_report\n",
    "import pickle\n",
    "from sklearn.ensemble import RandomForestClassifier\n",
    "from sklearn.preprocessing import LabelEncoder"
   ]
  },
  {
   "cell_type": "code",
   "execution_count": null,
   "id": "9dad5a94-e296-4e9c-8a9b-5aab5f12c146",
   "metadata": {},
   "outputs": [],
   "source": [
    "# code"
   ]
  },
  {
   "cell_type": "code",
   "execution_count": 4,
   "id": "46ac8fe9-0481-438c-b2a6-0cdcbdd54dcb",
   "metadata": {},
   "outputs": [
    {
     "name": "stdout",
     "output_type": "stream",
     "text": [
      "Model and LabelEncoders saved successfully!\n"
     ]
    }
   ],
   "source": [
    "import pickle\n",
    "import pandas as pd\n",
    "from sklearn.model_selection import train_test_split\n",
    "from sklearn.ensemble import RandomForestClassifier  # Changed to Classifier\n",
    "from sklearn.preprocessing import LabelEncoder\n",
    "\n",
    "# Load the dataset\n",
    "df = pd.read_csv('subsidies_openbaar_subsidieregister.csv')\n",
    "\n",
    "# Remove rows where necessary columns have NaN values\n",
    "df = df.dropna(subset=['Bedragaangevraagd', 'Bedragverleend', 'Beleidsterrein', 'Organisatieonderdeel', 'Typeperiodiciteit'])\n",
    "\n",
    "# Create the target variable 'Approved'\n",
    "df['Approved'] = (df['Bedragverleend'] > 0).astype(int)\n",
    "\n",
    "# Initialize LabelEncoders for categorical columns\n",
    "label_encoder_policy_area = LabelEncoder()\n",
    "label_encoder_organizational_unit = LabelEncoder()\n",
    "label_encoder_periodicity = LabelEncoder()\n",
    "\n",
    "# Apply LabelEncoder to the categorical columns\n",
    "df['Beleidsterrein'] = label_encoder_policy_area.fit_transform(df['Beleidsterrein'])\n",
    "df['Organisatieonderdeel'] = label_encoder_organizational_unit.fit_transform(df['Organisatieonderdeel'])\n",
    "df['Typeperiodiciteit'] = label_encoder_periodicity.fit_transform(df['Typeperiodiciteit'])\n",
    "\n",
    "# Define features and target variable\n",
    "X = df[['Bedragaangevraagd', 'Beleidsterrein', 'Organisatieonderdeel', 'Typeperiodiciteit']]\n",
    "y = df['Approved']  # Binary target variable\n",
    "\n",
    "# Split the data into training and testing sets\n",
    "X_train, X_test, y_train, y_test = train_test_split(X, y, test_size=0.2, random_state=42)\n",
    "\n",
    "# Initialize and train the RandomForestClassifier\n",
    "model = RandomForestClassifier(n_estimators=100, random_state=42)\n",
    "model.fit(X_train, y_train)\n",
    "\n",
    "# Compute feature importances\n",
    "feature_importances = model.feature_importances_\n",
    "\n",
    "# Save the trained model using pickle\n",
    "with open('rf_model.pkl', 'wb') as file:\n",
    "    pickle.dump(model, file)\n",
    "\n",
    "# Save the LabelEncoders\n",
    "with open('label_encoder_policy_area.pkl', 'wb') as file:\n",
    "    pickle.dump(label_encoder_policy_area, file)\n",
    "\n",
    "with open('label_encoder_organizational_unit.pkl', 'wb') as file:\n",
    "    pickle.dump(label_encoder_organizational_unit, file)\n",
    "\n",
    "with open('label_encoder_periodicity.pkl', 'wb') as file:\n",
    "    pickle.dump(label_encoder_periodicity, file)\n",
    "\n",
    "print(\"Model and LabelEncoders saved successfully!\")"
   ]
  }
 ],
 "metadata": {
  "kernelspec": {
   "display_name": "Python 3 (ipykernel)",
   "language": "python",
   "name": "python3"
  },
  "language_info": {
   "codemirror_mode": {
    "name": "ipython",
    "version": 3
   },
   "file_extension": ".py",
   "mimetype": "text/x-python",
   "name": "python",
   "nbconvert_exporter": "python",
   "pygments_lexer": "ipython3",
   "version": "3.10.10"
  }
 },
 "nbformat": 4,
 "nbformat_minor": 5
}
